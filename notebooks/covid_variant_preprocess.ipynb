{
 "cells": [
  {
   "cell_type": "code",
   "execution_count": 2,
   "metadata": {},
   "outputs": [],
   "source": [
    "import numpy as np\n",
    "import pandas as pd\n",
    "import matplotlib.pyplot as plt\n",
    "import seaborn as sns"
   ]
  },
  {
   "cell_type": "code",
   "execution_count": 3,
   "metadata": {},
   "outputs": [],
   "source": [
    "f = pd.read_csv(\"../sars_cov_2_proportions.csv\")"
   ]
  },
  {
   "cell_type": "code",
   "execution_count": 4,
   "metadata": {},
   "outputs": [
    {
     "data": {
      "text/html": [
       "<div>\n",
       "<style scoped>\n",
       "    .dataframe tbody tr th:only-of-type {\n",
       "        vertical-align: middle;\n",
       "    }\n",
       "\n",
       "    .dataframe tbody tr th {\n",
       "        vertical-align: top;\n",
       "    }\n",
       "\n",
       "    .dataframe thead th {\n",
       "        text-align: right;\n",
       "    }\n",
       "</style>\n",
       "<table border=\"1\" class=\"dataframe\">\n",
       "  <thead>\n",
       "    <tr style=\"text-align: right;\">\n",
       "      <th></th>\n",
       "      <th>usa_or_hhsregion</th>\n",
       "      <th>week_ending</th>\n",
       "      <th>variant</th>\n",
       "      <th>share</th>\n",
       "      <th>share_hi</th>\n",
       "      <th>share_lo</th>\n",
       "      <th>nchs_or_count_flag</th>\n",
       "      <th>modeltype</th>\n",
       "      <th>time_interval</th>\n",
       "      <th>published_date</th>\n",
       "    </tr>\n",
       "  </thead>\n",
       "  <tbody>\n",
       "    <tr>\n",
       "      <th>0</th>\n",
       "      <td>USA</td>\n",
       "      <td>05/08/2021 12:00:00 AM</td>\n",
       "      <td>B.1.1.529</td>\n",
       "      <td>0.000000</td>\n",
       "      <td>NaN</td>\n",
       "      <td>NaN</td>\n",
       "      <td>1.0</td>\n",
       "      <td>weighted</td>\n",
       "      <td>weekly</td>\n",
       "      <td>03/31/2023 12:00:00 AM</td>\n",
       "    </tr>\n",
       "    <tr>\n",
       "      <th>1</th>\n",
       "      <td>USA</td>\n",
       "      <td>05/08/2021 12:00:00 AM</td>\n",
       "      <td>B.1.617.2</td>\n",
       "      <td>0.017526</td>\n",
       "      <td>0.021864</td>\n",
       "      <td>0.01385</td>\n",
       "      <td>0.0</td>\n",
       "      <td>weighted</td>\n",
       "      <td>weekly</td>\n",
       "      <td>03/31/2023 12:00:00 AM</td>\n",
       "    </tr>\n",
       "    <tr>\n",
       "      <th>2</th>\n",
       "      <td>USA</td>\n",
       "      <td>05/08/2021 12:00:00 AM</td>\n",
       "      <td>BA.1.1</td>\n",
       "      <td>0.000000</td>\n",
       "      <td>NaN</td>\n",
       "      <td>NaN</td>\n",
       "      <td>1.0</td>\n",
       "      <td>weighted</td>\n",
       "      <td>weekly</td>\n",
       "      <td>03/31/2023 12:00:00 AM</td>\n",
       "    </tr>\n",
       "    <tr>\n",
       "      <th>3</th>\n",
       "      <td>USA</td>\n",
       "      <td>05/08/2021 12:00:00 AM</td>\n",
       "      <td>BA.2</td>\n",
       "      <td>0.000000</td>\n",
       "      <td>NaN</td>\n",
       "      <td>NaN</td>\n",
       "      <td>1.0</td>\n",
       "      <td>weighted</td>\n",
       "      <td>weekly</td>\n",
       "      <td>03/31/2023 12:00:00 AM</td>\n",
       "    </tr>\n",
       "    <tr>\n",
       "      <th>4</th>\n",
       "      <td>USA</td>\n",
       "      <td>05/08/2021 12:00:00 AM</td>\n",
       "      <td>BA.2.12.1</td>\n",
       "      <td>0.000000</td>\n",
       "      <td>NaN</td>\n",
       "      <td>NaN</td>\n",
       "      <td>1.0</td>\n",
       "      <td>weighted</td>\n",
       "      <td>weekly</td>\n",
       "      <td>03/31/2023 12:00:00 AM</td>\n",
       "    </tr>\n",
       "  </tbody>\n",
       "</table>\n",
       "</div>"
      ],
      "text/plain": [
       "  usa_or_hhsregion             week_ending    variant     share  share_hi  \\\n",
       "0              USA  05/08/2021 12:00:00 AM  B.1.1.529  0.000000       NaN   \n",
       "1              USA  05/08/2021 12:00:00 AM  B.1.617.2  0.017526  0.021864   \n",
       "2              USA  05/08/2021 12:00:00 AM     BA.1.1  0.000000       NaN   \n",
       "3              USA  05/08/2021 12:00:00 AM       BA.2  0.000000       NaN   \n",
       "4              USA  05/08/2021 12:00:00 AM  BA.2.12.1  0.000000       NaN   \n",
       "\n",
       "   share_lo  nchs_or_count_flag modeltype time_interval  \\\n",
       "0       NaN                 1.0  weighted        weekly   \n",
       "1   0.01385                 0.0  weighted        weekly   \n",
       "2       NaN                 1.0  weighted        weekly   \n",
       "3       NaN                 1.0  weighted        weekly   \n",
       "4       NaN                 1.0  weighted        weekly   \n",
       "\n",
       "           published_date  \n",
       "0  03/31/2023 12:00:00 AM  \n",
       "1  03/31/2023 12:00:00 AM  \n",
       "2  03/31/2023 12:00:00 AM  \n",
       "3  03/31/2023 12:00:00 AM  \n",
       "4  03/31/2023 12:00:00 AM  "
      ]
     },
     "execution_count": 4,
     "metadata": {},
     "output_type": "execute_result"
    }
   ],
   "source": [
    "f.head()"
   ]
  },
  {
   "cell_type": "code",
   "execution_count": 5,
   "metadata": {},
   "outputs": [],
   "source": [
    "regions = np.unique(f['usa_or_hhsregion'])"
   ]
  },
  {
   "cell_type": "code",
   "execution_count": 6,
   "metadata": {},
   "outputs": [
    {
     "data": {
      "text/plain": [
       "array(['1', '10', '2', '3', '4', '5', '6', '7', '8', '9', 'USA'],\n",
       "      dtype=object)"
      ]
     },
     "execution_count": 6,
     "metadata": {},
     "output_type": "execute_result"
    }
   ],
   "source": [
    "regions"
   ]
  },
  {
   "cell_type": "code",
   "execution_count": 7,
   "metadata": {},
   "outputs": [
    {
     "data": {
      "text/plain": [
       "array(['A.2.5', 'AY.1', 'AY.2', 'AY.3', 'B.1', 'B.1.1', 'B.1.1.194',\n",
       "       'B.1.1.519', 'B.1.1.529', 'B.1.1.7', 'B.1.2', 'B.1.234', 'B.1.243',\n",
       "       'B.1.351', 'B.1.427', 'B.1.429', 'B.1.525', 'B.1.526', 'B.1.526.1',\n",
       "       'B.1.526.2', 'B.1.596', 'B.1.617', 'B.1.617.1', 'B.1.617.2',\n",
       "       'B.1.617.3', 'B.1.621', 'B.1.621.1', 'B.1.626', 'B.1.628',\n",
       "       'B.1.637', 'BA.1.1', 'BA.2', 'BA.2.12.1', 'BA.2.75', 'BA.2.75.2',\n",
       "       'BA.4', 'BA.4.6', 'BA.5', 'BA.5.2.6', 'BF.11', 'BF.7', 'BN.1',\n",
       "       'BQ.1', 'BQ.1.1', 'CH.1.1', 'EU.1.1', 'FD.2', 'FE.1.1', 'Other',\n",
       "       'P.1', 'P.2', 'R.1', 'XBB', 'XBB.1.16', 'XBB.1.16.1', 'XBB.1.5',\n",
       "       'XBB.1.5.1', 'XBB.1.5.10', 'XBB.1.5.68', 'XBB.1.9.1', 'XBB.1.9.2',\n",
       "       'XBB.2.3'], dtype=object)"
      ]
     },
     "execution_count": 7,
     "metadata": {},
     "output_type": "execute_result"
    }
   ],
   "source": [
    "variants = np.unique(f['variant'])\n",
    "variants"
   ]
  },
  {
   "cell_type": "code",
   "execution_count": 81,
   "metadata": {},
   "outputs": [
    {
     "data": {
      "text/plain": [
       "(24369, 10)"
      ]
     },
     "execution_count": 81,
     "metadata": {},
     "output_type": "execute_result"
    }
   ],
   "source": [
    "usa = f.loc[\n",
    "    (f['usa_or_hhsregion'] == \"USA\") & \n",
    "    (f['time_interval'] == 'weekly') & \n",
    "    (f['modeltype'] == 'weighted') & \n",
    "    (f['nchs_or_count_flag'] == 0.0)\n",
    "    ]\n",
    "usa.shape"
   ]
  },
  {
   "cell_type": "code",
   "execution_count": 82,
   "metadata": {},
   "outputs": [
    {
     "name": "stderr",
     "output_type": "stream",
     "text": [
      "C:\\Users\\Gerald Wong\\AppData\\Local\\Temp\\ipykernel_5156\\2832995782.py:1: SettingWithCopyWarning: \n",
      "A value is trying to be set on a copy of a slice from a DataFrame.\n",
      "Try using .loc[row_indexer,col_indexer] = value instead\n",
      "\n",
      "See the caveats in the documentation: https://pandas.pydata.org/pandas-docs/stable/user_guide/indexing.html#returning-a-view-versus-a-copy\n",
      "  usa['week_ending'] = pd.to_datetime(usa['week_ending'], format='%m/%d/%Y %X %p').dt.strftime('%Y-%m-%d')\n"
     ]
    },
    {
     "data": {
      "text/html": [
       "<div>\n",
       "<style scoped>\n",
       "    .dataframe tbody tr th:only-of-type {\n",
       "        vertical-align: middle;\n",
       "    }\n",
       "\n",
       "    .dataframe tbody tr th {\n",
       "        vertical-align: top;\n",
       "    }\n",
       "\n",
       "    .dataframe thead th {\n",
       "        text-align: right;\n",
       "    }\n",
       "</style>\n",
       "<table border=\"1\" class=\"dataframe\">\n",
       "  <thead>\n",
       "    <tr style=\"text-align: right;\">\n",
       "      <th></th>\n",
       "      <th>usa_or_hhsregion</th>\n",
       "      <th>week_ending</th>\n",
       "      <th>variant</th>\n",
       "      <th>share</th>\n",
       "      <th>share_hi</th>\n",
       "      <th>share_lo</th>\n",
       "      <th>nchs_or_count_flag</th>\n",
       "      <th>modeltype</th>\n",
       "      <th>time_interval</th>\n",
       "      <th>published_date</th>\n",
       "    </tr>\n",
       "  </thead>\n",
       "  <tbody>\n",
       "    <tr>\n",
       "      <th>480096</th>\n",
       "      <td>USA</td>\n",
       "      <td>2021-01-30</td>\n",
       "      <td>B.1.1.7</td>\n",
       "      <td>0.012539</td>\n",
       "      <td>0.025176</td>\n",
       "      <td>0.006205</td>\n",
       "      <td>0.0</td>\n",
       "      <td>weighted</td>\n",
       "      <td>weekly</td>\n",
       "      <td>08/10/2021 12:00:00 AM</td>\n",
       "    </tr>\n",
       "    <tr>\n",
       "      <th>750688</th>\n",
       "      <td>USA</td>\n",
       "      <td>2021-01-30</td>\n",
       "      <td>B.1.1.7</td>\n",
       "      <td>0.012529</td>\n",
       "      <td>0.025162</td>\n",
       "      <td>0.006198</td>\n",
       "      <td>0.0</td>\n",
       "      <td>weighted</td>\n",
       "      <td>weekly</td>\n",
       "      <td>08/17/2021 12:00:00 AM</td>\n",
       "    </tr>\n",
       "    <tr>\n",
       "      <th>750691</th>\n",
       "      <td>USA</td>\n",
       "      <td>2021-01-30</td>\n",
       "      <td>B.1.526</td>\n",
       "      <td>0.017727</td>\n",
       "      <td>0.042249</td>\n",
       "      <td>0.007329</td>\n",
       "      <td>0.0</td>\n",
       "      <td>weighted</td>\n",
       "      <td>weekly</td>\n",
       "      <td>08/17/2021 12:00:00 AM</td>\n",
       "    </tr>\n",
       "    <tr>\n",
       "      <th>750700</th>\n",
       "      <td>USA</td>\n",
       "      <td>2021-01-30</td>\n",
       "      <td>Other</td>\n",
       "      <td>0.964660</td>\n",
       "      <td>0.980841</td>\n",
       "      <td>0.935711</td>\n",
       "      <td>0.0</td>\n",
       "      <td>weighted</td>\n",
       "      <td>weekly</td>\n",
       "      <td>08/17/2021 12:00:00 AM</td>\n",
       "    </tr>\n",
       "    <tr>\n",
       "      <th>442720</th>\n",
       "      <td>USA</td>\n",
       "      <td>2021-01-30</td>\n",
       "      <td>B.1.1.7</td>\n",
       "      <td>0.012757</td>\n",
       "      <td>0.025683</td>\n",
       "      <td>0.006295</td>\n",
       "      <td>0.0</td>\n",
       "      <td>weighted</td>\n",
       "      <td>weekly</td>\n",
       "      <td>08/24/2021 12:00:00 AM</td>\n",
       "    </tr>\n",
       "  </tbody>\n",
       "</table>\n",
       "</div>"
      ],
      "text/plain": [
       "       usa_or_hhsregion week_ending  variant     share  share_hi  share_lo  \\\n",
       "480096              USA  2021-01-30  B.1.1.7  0.012539  0.025176  0.006205   \n",
       "750688              USA  2021-01-30  B.1.1.7  0.012529  0.025162  0.006198   \n",
       "750691              USA  2021-01-30  B.1.526  0.017727  0.042249  0.007329   \n",
       "750700              USA  2021-01-30    Other  0.964660  0.980841  0.935711   \n",
       "442720              USA  2021-01-30  B.1.1.7  0.012757  0.025683  0.006295   \n",
       "\n",
       "        nchs_or_count_flag modeltype time_interval          published_date  \n",
       "480096                 0.0  weighted        weekly  08/10/2021 12:00:00 AM  \n",
       "750688                 0.0  weighted        weekly  08/17/2021 12:00:00 AM  \n",
       "750691                 0.0  weighted        weekly  08/17/2021 12:00:00 AM  \n",
       "750700                 0.0  weighted        weekly  08/17/2021 12:00:00 AM  \n",
       "442720                 0.0  weighted        weekly  08/24/2021 12:00:00 AM  "
      ]
     },
     "execution_count": 82,
     "metadata": {},
     "output_type": "execute_result"
    }
   ],
   "source": [
    "usa['week_ending'] = pd.to_datetime(usa['week_ending'], format='%m/%d/%Y %X %p').dt.strftime('%Y-%m-%d')\n",
    "usa = usa.sort_values(by='week_ending')\n",
    "usa.head()"
   ]
  },
  {
   "cell_type": "code",
   "execution_count": 91,
   "metadata": {},
   "outputs": [
    {
     "data": {
      "text/plain": [
       "'2021-01-30'"
      ]
     },
     "execution_count": 91,
     "metadata": {},
     "output_type": "execute_result"
    }
   ],
   "source": [
    "usa = usa[usa['week_ending'] <= '2022-10-22']\n",
    "usa.iloc[0]['week_ending']"
   ]
  },
  {
   "cell_type": "code",
   "execution_count": 95,
   "metadata": {},
   "outputs": [],
   "source": [
    "params = [\n",
    "    'week_ending',\n",
    "    'variant',\n",
    "    'share',\n",
    "    'share_lo',\n",
    "    'share_hi'\n",
    "]\n",
    "\n",
    "us_data = usa[params]\n",
    "us_data.head()\n",
    "us_data.to_csv('../assets/data/us_variants.csv', sep=';', index=False)"
   ]
  }
 ],
 "metadata": {
  "kernelspec": {
   "display_name": "Python 3",
   "language": "python",
   "name": "python3"
  },
  "language_info": {
   "codemirror_mode": {
    "name": "ipython",
    "version": 3
   },
   "file_extension": ".py",
   "mimetype": "text/x-python",
   "name": "python",
   "nbconvert_exporter": "python",
   "pygments_lexer": "ipython3",
   "version": "3.10.11"
  }
 },
 "nbformat": 4,
 "nbformat_minor": 2
}
